{
 "cells": [
  {
   "cell_type": "markdown",
   "id": "62321d43-d6be-4c35-904d-8baad835d3ff",
   "metadata": {},
   "source": [
    "# Part IV: Validation and Testing\n",
    "\n",
    "Date: 23/08/2022\n",
    "\n",
    "Authors: Jordi Bolibar & Facundo Sapienza"
   ]
  },
  {
   "cell_type": "code",
   "execution_count": 12,
   "id": "478d0888-0204-4ef1-8878-255845ea2880",
   "metadata": {},
   "outputs": [],
   "source": [
    "import numpy as np\n",
    "import pandas as pd\n",
    "import matplotlib.pyplot as plt\n",
    "from sklearn.model_selection import KFold,train_test_split,GridSearchCV\n",
    "from sklearn.neural_network import MLPRegressor\n",
    "from sklearn.preprocessing import StandardScaler\n",
    "from sklearn.neural_network import MLPRegressor\n",
    "from sklearn.model_selection import cross_val_score"
   ]
  },
  {
   "cell_type": "markdown",
   "id": "9aa0fdf7-43df-4def-9139-a8a16e706924",
   "metadata": {},
   "source": [
    "# Setup\n",
    "\n",
    "The goal of this notebook is to explore different validation and testing methodologies that you can use and the respective considerations you have to consider at the moment of asserting the performace of a given model, either for model selection or test report. \n",
    "\n",
    "When training and testing a model, we usually split the dataset among three different sets: training, validation and testing set. Sometimes, this split of the data is done authomatically by the method we use, and sometimes instead of a simple split of the dataset into three pieces is done iteratively (eg, in k-fold cross-validation). Independently of how we implement this, we need to understand the limitations and considerations we need to have at the moment we do the split. This considerations can include:\n",
    "- Sampling procedure\n",
    "- Spatial and temporal correlations between data points\n",
    "- Size of data available\n",
    "- Nature of the datasets: where are they coming from? How independent they are?"
   ]
  },
  {
   "cell_type": "markdown",
   "id": "b062142f-d23f-4b31-ba07-f9b258a25765",
   "metadata": {},
   "source": [
    "### [ **Exercice 3** ]\n",
    "<img src=\"Figures/eye_logo.png\" width=\"75\"/>\n",
    "\n",
    "How would you desing a validation-testing workflow for the problem of predicting the mass balance? How would you divide the different folds?\n",
    "\n",
    "For an excellent introduction to cross-validation, as well as the different high-level function to implement it in `sklearn` models, checkout [this tutorial](https://scikit-learn.org/stable/modules/cross_validation.html). "
   ]
  },
  {
   "cell_type": "code",
   "execution_count": 3,
   "id": "8586eafa-cea3-4840-b0af-b28345629476",
   "metadata": {},
   "outputs": [
    {
     "data": {
      "text/html": [
       "<div>\n",
       "<style scoped>\n",
       "    .dataframe tbody tr th:only-of-type {\n",
       "        vertical-align: middle;\n",
       "    }\n",
       "\n",
       "    .dataframe tbody tr th {\n",
       "        vertical-align: top;\n",
       "    }\n",
       "\n",
       "    .dataframe thead th {\n",
       "        text-align: right;\n",
       "    }\n",
       "</style>\n",
       "<table border=\"1\" class=\"dataframe\">\n",
       "  <thead>\n",
       "    <tr style=\"text-align: right;\">\n",
       "      <th></th>\n",
       "      <th></th>\n",
       "      <th>PDD</th>\n",
       "      <th>area</th>\n",
       "      <th>icecap</th>\n",
       "      <th>lat</th>\n",
       "      <th>prcp_01</th>\n",
       "      <th>prcp_02</th>\n",
       "      <th>prcp_03</th>\n",
       "      <th>prcp_04</th>\n",
       "      <th>prcp_05</th>\n",
       "      <th>prcp_06</th>\n",
       "      <th>...</th>\n",
       "      <th>temp_09</th>\n",
       "      <th>temp_10</th>\n",
       "      <th>temp_11</th>\n",
       "      <th>temp_12</th>\n",
       "      <th>zmax</th>\n",
       "      <th>zmed</th>\n",
       "      <th>zmin</th>\n",
       "      <th>dmdtda</th>\n",
       "      <th>err_dmdtda</th>\n",
       "      <th>target_id</th>\n",
       "    </tr>\n",
       "    <tr>\n",
       "      <th>rgi_id</th>\n",
       "      <th>period</th>\n",
       "      <th></th>\n",
       "      <th></th>\n",
       "      <th></th>\n",
       "      <th></th>\n",
       "      <th></th>\n",
       "      <th></th>\n",
       "      <th></th>\n",
       "      <th></th>\n",
       "      <th></th>\n",
       "      <th></th>\n",
       "      <th></th>\n",
       "      <th></th>\n",
       "      <th></th>\n",
       "      <th></th>\n",
       "      <th></th>\n",
       "      <th></th>\n",
       "      <th></th>\n",
       "      <th></th>\n",
       "      <th></th>\n",
       "      <th></th>\n",
       "      <th></th>\n",
       "    </tr>\n",
       "  </thead>\n",
       "  <tbody>\n",
       "    <tr>\n",
       "      <th rowspan=\"2\" valign=\"top\">RGI60-08.03009</th>\n",
       "      <th>2000-2010</th>\n",
       "      <td>58.347229</td>\n",
       "      <td>0.560</td>\n",
       "      <td>0.0</td>\n",
       "      <td>61.410</td>\n",
       "      <td>180.605754</td>\n",
       "      <td>179.220350</td>\n",
       "      <td>189.276083</td>\n",
       "      <td>193.833619</td>\n",
       "      <td>125.218186</td>\n",
       "      <td>110.821174</td>\n",
       "      <td>...</td>\n",
       "      <td>7.704444</td>\n",
       "      <td>10.274074</td>\n",
       "      <td>9.710740</td>\n",
       "      <td>5.632594</td>\n",
       "      <td>1581.0</td>\n",
       "      <td>1534.0</td>\n",
       "      <td>1450.0</td>\n",
       "      <td>-0.8343</td>\n",
       "      <td>0.3221</td>\n",
       "      <td>164862.0</td>\n",
       "    </tr>\n",
       "    <tr>\n",
       "      <th>2010-2020</th>\n",
       "      <td>57.499103</td>\n",
       "      <td>0.560</td>\n",
       "      <td>0.0</td>\n",
       "      <td>61.410</td>\n",
       "      <td>177.588855</td>\n",
       "      <td>152.698084</td>\n",
       "      <td>197.095410</td>\n",
       "      <td>143.539612</td>\n",
       "      <td>109.205440</td>\n",
       "      <td>119.362232</td>\n",
       "      <td>...</td>\n",
       "      <td>7.563333</td>\n",
       "      <td>9.994074</td>\n",
       "      <td>9.414073</td>\n",
       "      <td>5.837038</td>\n",
       "      <td>1581.0</td>\n",
       "      <td>1534.0</td>\n",
       "      <td>1450.0</td>\n",
       "      <td>-0.3769</td>\n",
       "      <td>0.3074</td>\n",
       "      <td>164863.0</td>\n",
       "    </tr>\n",
       "    <tr>\n",
       "      <th rowspan=\"2\" valign=\"top\">RGI60-08.02369</th>\n",
       "      <th>2000-2010</th>\n",
       "      <td>29.322022</td>\n",
       "      <td>0.868</td>\n",
       "      <td>0.0</td>\n",
       "      <td>67.211</td>\n",
       "      <td>100.077741</td>\n",
       "      <td>103.813814</td>\n",
       "      <td>110.801530</td>\n",
       "      <td>108.119632</td>\n",
       "      <td>92.988041</td>\n",
       "      <td>71.397800</td>\n",
       "      <td>...</td>\n",
       "      <td>5.204445</td>\n",
       "      <td>8.865555</td>\n",
       "      <td>7.751112</td>\n",
       "      <td>3.038889</td>\n",
       "      <td>1284.0</td>\n",
       "      <td>1222.0</td>\n",
       "      <td>1140.0</td>\n",
       "      <td>-0.7524</td>\n",
       "      <td>0.3496</td>\n",
       "      <td>163582.0</td>\n",
       "    </tr>\n",
       "    <tr>\n",
       "      <th>2010-2020</th>\n",
       "      <td>29.845311</td>\n",
       "      <td>0.868</td>\n",
       "      <td>0.0</td>\n",
       "      <td>67.211</td>\n",
       "      <td>106.696440</td>\n",
       "      <td>88.701531</td>\n",
       "      <td>112.939499</td>\n",
       "      <td>78.565675</td>\n",
       "      <td>78.882801</td>\n",
       "      <td>102.347588</td>\n",
       "      <td>...</td>\n",
       "      <td>4.877778</td>\n",
       "      <td>8.712222</td>\n",
       "      <td>7.577778</td>\n",
       "      <td>3.988889</td>\n",
       "      <td>1284.0</td>\n",
       "      <td>1222.0</td>\n",
       "      <td>1140.0</td>\n",
       "      <td>-0.4607</td>\n",
       "      <td>0.3096</td>\n",
       "      <td>163583.0</td>\n",
       "    </tr>\n",
       "    <tr>\n",
       "      <th>RGI60-08.02761</th>\n",
       "      <th>2000-2010</th>\n",
       "      <td>81.774534</td>\n",
       "      <td>1.423</td>\n",
       "      <td>0.0</td>\n",
       "      <td>61.872</td>\n",
       "      <td>157.790569</td>\n",
       "      <td>170.811408</td>\n",
       "      <td>189.096644</td>\n",
       "      <td>186.691017</td>\n",
       "      <td>125.473480</td>\n",
       "      <td>111.741884</td>\n",
       "      <td>...</td>\n",
       "      <td>8.794815</td>\n",
       "      <td>11.406667</td>\n",
       "      <td>10.830000</td>\n",
       "      <td>6.929259</td>\n",
       "      <td>1785.0</td>\n",
       "      <td>1511.0</td>\n",
       "      <td>1147.0</td>\n",
       "      <td>-0.5289</td>\n",
       "      <td>0.2872</td>\n",
       "      <td>164366.0</td>\n",
       "    </tr>\n",
       "    <tr>\n",
       "      <th>...</th>\n",
       "      <th>...</th>\n",
       "      <td>...</td>\n",
       "      <td>...</td>\n",
       "      <td>...</td>\n",
       "      <td>...</td>\n",
       "      <td>...</td>\n",
       "      <td>...</td>\n",
       "      <td>...</td>\n",
       "      <td>...</td>\n",
       "      <td>...</td>\n",
       "      <td>...</td>\n",
       "      <td>...</td>\n",
       "      <td>...</td>\n",
       "      <td>...</td>\n",
       "      <td>...</td>\n",
       "      <td>...</td>\n",
       "      <td>...</td>\n",
       "      <td>...</td>\n",
       "      <td>...</td>\n",
       "      <td>...</td>\n",
       "      <td>...</td>\n",
       "      <td>...</td>\n",
       "    </tr>\n",
       "    <tr>\n",
       "      <th>RGI60-08.01280</th>\n",
       "      <th>2010-2020</th>\n",
       "      <td>61.119480</td>\n",
       "      <td>0.095</td>\n",
       "      <td>0.0</td>\n",
       "      <td>66.472</td>\n",
       "      <td>178.777936</td>\n",
       "      <td>144.972057</td>\n",
       "      <td>198.788401</td>\n",
       "      <td>131.487880</td>\n",
       "      <td>124.621465</td>\n",
       "      <td>135.681207</td>\n",
       "      <td>...</td>\n",
       "      <td>7.730000</td>\n",
       "      <td>11.023703</td>\n",
       "      <td>10.404444</td>\n",
       "      <td>7.191111</td>\n",
       "      <td>1087.0</td>\n",
       "      <td>978.0</td>\n",
       "      <td>896.0</td>\n",
       "      <td>-0.2977</td>\n",
       "      <td>0.5915</td>\n",
       "      <td>161405.0</td>\n",
       "    </tr>\n",
       "    <tr>\n",
       "      <th rowspan=\"2\" valign=\"top\">RGI60-08.01101</th>\n",
       "      <th>2000-2010</th>\n",
       "      <td>50.657925</td>\n",
       "      <td>1.190</td>\n",
       "      <td>0.0</td>\n",
       "      <td>61.524</td>\n",
       "      <td>180.333787</td>\n",
       "      <td>183.899261</td>\n",
       "      <td>195.892988</td>\n",
       "      <td>199.060555</td>\n",
       "      <td>130.992370</td>\n",
       "      <td>116.113799</td>\n",
       "      <td>...</td>\n",
       "      <td>6.898888</td>\n",
       "      <td>9.590370</td>\n",
       "      <td>9.018148</td>\n",
       "      <td>5.028519</td>\n",
       "      <td>1682.0</td>\n",
       "      <td>1578.0</td>\n",
       "      <td>1356.0</td>\n",
       "      <td>-0.3273</td>\n",
       "      <td>0.2722</td>\n",
       "      <td>161046.0</td>\n",
       "    </tr>\n",
       "    <tr>\n",
       "      <th>2010-2020</th>\n",
       "      <td>49.594748</td>\n",
       "      <td>1.190</td>\n",
       "      <td>0.0</td>\n",
       "      <td>61.524</td>\n",
       "      <td>179.886484</td>\n",
       "      <td>155.927921</td>\n",
       "      <td>203.959297</td>\n",
       "      <td>147.135021</td>\n",
       "      <td>113.662108</td>\n",
       "      <td>126.854591</td>\n",
       "      <td>...</td>\n",
       "      <td>6.749999</td>\n",
       "      <td>9.297037</td>\n",
       "      <td>8.728148</td>\n",
       "      <td>5.244075</td>\n",
       "      <td>1682.0</td>\n",
       "      <td>1578.0</td>\n",
       "      <td>1356.0</td>\n",
       "      <td>-0.8434</td>\n",
       "      <td>0.3097</td>\n",
       "      <td>161047.0</td>\n",
       "    </tr>\n",
       "    <tr>\n",
       "      <th rowspan=\"2\" valign=\"top\">RGI60-08.00321</th>\n",
       "      <th>2000-2010</th>\n",
       "      <td>58.810481</td>\n",
       "      <td>3.371</td>\n",
       "      <td>0.0</td>\n",
       "      <td>61.500</td>\n",
       "      <td>219.850909</td>\n",
       "      <td>220.156427</td>\n",
       "      <td>229.581238</td>\n",
       "      <td>233.757319</td>\n",
       "      <td>154.367752</td>\n",
       "      <td>135.158211</td>\n",
       "      <td>...</td>\n",
       "      <td>7.525555</td>\n",
       "      <td>10.165555</td>\n",
       "      <td>9.594814</td>\n",
       "      <td>5.826667</td>\n",
       "      <td>1621.0</td>\n",
       "      <td>1509.0</td>\n",
       "      <td>1141.0</td>\n",
       "      <td>-0.5828</td>\n",
       "      <td>0.2533</td>\n",
       "      <td>159486.0</td>\n",
       "    </tr>\n",
       "    <tr>\n",
       "      <th>2010-2020</th>\n",
       "      <td>58.440740</td>\n",
       "      <td>3.371</td>\n",
       "      <td>0.0</td>\n",
       "      <td>61.500</td>\n",
       "      <td>217.887660</td>\n",
       "      <td>187.402467</td>\n",
       "      <td>239.439860</td>\n",
       "      <td>172.542368</td>\n",
       "      <td>134.047450</td>\n",
       "      <td>146.167576</td>\n",
       "      <td>...</td>\n",
       "      <td>7.386666</td>\n",
       "      <td>9.886667</td>\n",
       "      <td>9.329259</td>\n",
       "      <td>6.045556</td>\n",
       "      <td>1621.0</td>\n",
       "      <td>1509.0</td>\n",
       "      <td>1141.0</td>\n",
       "      <td>-0.4431</td>\n",
       "      <td>0.2720</td>\n",
       "      <td>159487.0</td>\n",
       "    </tr>\n",
       "  </tbody>\n",
       "</table>\n",
       "<p>1802 rows × 37 columns</p>\n",
       "</div>"
      ],
      "text/plain": [
       "                                PDD   area  icecap     lat     prcp_01  \\\n",
       "rgi_id         period                                                    \n",
       "RGI60-08.03009 2000-2010  58.347229  0.560     0.0  61.410  180.605754   \n",
       "               2010-2020  57.499103  0.560     0.0  61.410  177.588855   \n",
       "RGI60-08.02369 2000-2010  29.322022  0.868     0.0  67.211  100.077741   \n",
       "               2010-2020  29.845311  0.868     0.0  67.211  106.696440   \n",
       "RGI60-08.02761 2000-2010  81.774534  1.423     0.0  61.872  157.790569   \n",
       "...                             ...    ...     ...     ...         ...   \n",
       "RGI60-08.01280 2010-2020  61.119480  0.095     0.0  66.472  178.777936   \n",
       "RGI60-08.01101 2000-2010  50.657925  1.190     0.0  61.524  180.333787   \n",
       "               2010-2020  49.594748  1.190     0.0  61.524  179.886484   \n",
       "RGI60-08.00321 2000-2010  58.810481  3.371     0.0  61.500  219.850909   \n",
       "               2010-2020  58.440740  3.371     0.0  61.500  217.887660   \n",
       "\n",
       "                             prcp_02     prcp_03     prcp_04     prcp_05  \\\n",
       "rgi_id         period                                                      \n",
       "RGI60-08.03009 2000-2010  179.220350  189.276083  193.833619  125.218186   \n",
       "               2010-2020  152.698084  197.095410  143.539612  109.205440   \n",
       "RGI60-08.02369 2000-2010  103.813814  110.801530  108.119632   92.988041   \n",
       "               2010-2020   88.701531  112.939499   78.565675   78.882801   \n",
       "RGI60-08.02761 2000-2010  170.811408  189.096644  186.691017  125.473480   \n",
       "...                              ...         ...         ...         ...   \n",
       "RGI60-08.01280 2010-2020  144.972057  198.788401  131.487880  124.621465   \n",
       "RGI60-08.01101 2000-2010  183.899261  195.892988  199.060555  130.992370   \n",
       "               2010-2020  155.927921  203.959297  147.135021  113.662108   \n",
       "RGI60-08.00321 2000-2010  220.156427  229.581238  233.757319  154.367752   \n",
       "               2010-2020  187.402467  239.439860  172.542368  134.047450   \n",
       "\n",
       "                             prcp_06  ...   temp_09    temp_10    temp_11  \\\n",
       "rgi_id         period                 ...                                   \n",
       "RGI60-08.03009 2000-2010  110.821174  ...  7.704444  10.274074   9.710740   \n",
       "               2010-2020  119.362232  ...  7.563333   9.994074   9.414073   \n",
       "RGI60-08.02369 2000-2010   71.397800  ...  5.204445   8.865555   7.751112   \n",
       "               2010-2020  102.347588  ...  4.877778   8.712222   7.577778   \n",
       "RGI60-08.02761 2000-2010  111.741884  ...  8.794815  11.406667  10.830000   \n",
       "...                              ...  ...       ...        ...        ...   \n",
       "RGI60-08.01280 2010-2020  135.681207  ...  7.730000  11.023703  10.404444   \n",
       "RGI60-08.01101 2000-2010  116.113799  ...  6.898888   9.590370   9.018148   \n",
       "               2010-2020  126.854591  ...  6.749999   9.297037   8.728148   \n",
       "RGI60-08.00321 2000-2010  135.158211  ...  7.525555  10.165555   9.594814   \n",
       "               2010-2020  146.167576  ...  7.386666   9.886667   9.329259   \n",
       "\n",
       "                           temp_12    zmax    zmed    zmin  dmdtda  \\\n",
       "rgi_id         period                                                \n",
       "RGI60-08.03009 2000-2010  5.632594  1581.0  1534.0  1450.0 -0.8343   \n",
       "               2010-2020  5.837038  1581.0  1534.0  1450.0 -0.3769   \n",
       "RGI60-08.02369 2000-2010  3.038889  1284.0  1222.0  1140.0 -0.7524   \n",
       "               2010-2020  3.988889  1284.0  1222.0  1140.0 -0.4607   \n",
       "RGI60-08.02761 2000-2010  6.929259  1785.0  1511.0  1147.0 -0.5289   \n",
       "...                            ...     ...     ...     ...     ...   \n",
       "RGI60-08.01280 2010-2020  7.191111  1087.0   978.0   896.0 -0.2977   \n",
       "RGI60-08.01101 2000-2010  5.028519  1682.0  1578.0  1356.0 -0.3273   \n",
       "               2010-2020  5.244075  1682.0  1578.0  1356.0 -0.8434   \n",
       "RGI60-08.00321 2000-2010  5.826667  1621.0  1509.0  1141.0 -0.5828   \n",
       "               2010-2020  6.045556  1621.0  1509.0  1141.0 -0.4431   \n",
       "\n",
       "                          err_dmdtda  target_id  \n",
       "rgi_id         period                            \n",
       "RGI60-08.03009 2000-2010      0.3221   164862.0  \n",
       "               2010-2020      0.3074   164863.0  \n",
       "RGI60-08.02369 2000-2010      0.3496   163582.0  \n",
       "               2010-2020      0.3096   163583.0  \n",
       "RGI60-08.02761 2000-2010      0.2872   164366.0  \n",
       "...                              ...        ...  \n",
       "RGI60-08.01280 2010-2020      0.5915   161405.0  \n",
       "RGI60-08.01101 2000-2010      0.2722   161046.0  \n",
       "               2010-2020      0.3097   161047.0  \n",
       "RGI60-08.00321 2000-2010      0.2533   159486.0  \n",
       "               2010-2020      0.2720   159487.0  \n",
       "\n",
       "[1802 rows x 37 columns]"
      ]
     },
     "execution_count": 3,
     "metadata": {},
     "output_type": "execute_result"
    }
   ],
   "source": [
    "df_train_all = pd.read_csv('Data/df_train_all.csv', index_col=['rgi_id', 'period'])\n",
    "df_train_all"
   ]
  },
  {
   "cell_type": "code",
   "execution_count": null,
   "id": "d2a502e2-416f-4e82-b92e-09e0f4c20888",
   "metadata": {},
   "outputs": [],
   "source": []
  },
  {
   "cell_type": "code",
   "execution_count": 4,
   "id": "9d6fddf1-afbe-4085-8ec4-773156ffa1fe",
   "metadata": {},
   "outputs": [],
   "source": [
    "features_to_drop = [ 'dmdtda', 'err_dmdtda', 'target_id']\n",
    "\n",
    "df_train_all_X = df_train_all.drop(features_to_drop, axis=1)\n",
    "df_train_all_y = df_train_all[['dmdtda']]\n",
    "\n",
    "X_train_all, y_train_all = df_train_all_X.values, df_train_all_y.values\n",
    "\n"
   ]
  },
  {
   "cell_type": "code",
   "execution_count": 5,
   "id": "8b5cd792-b27c-4bcc-827b-744b3318dff7",
   "metadata": {},
   "outputs": [
    {
     "data": {
      "text/html": [
       "<style>#sk-container-id-1 {color: black;background-color: white;}#sk-container-id-1 pre{padding: 0;}#sk-container-id-1 div.sk-toggleable {background-color: white;}#sk-container-id-1 label.sk-toggleable__label {cursor: pointer;display: block;width: 100%;margin-bottom: 0;padding: 0.3em;box-sizing: border-box;text-align: center;}#sk-container-id-1 label.sk-toggleable__label-arrow:before {content: \"▸\";float: left;margin-right: 0.25em;color: #696969;}#sk-container-id-1 label.sk-toggleable__label-arrow:hover:before {color: black;}#sk-container-id-1 div.sk-estimator:hover label.sk-toggleable__label-arrow:before {color: black;}#sk-container-id-1 div.sk-toggleable__content {max-height: 0;max-width: 0;overflow: hidden;text-align: left;background-color: #f0f8ff;}#sk-container-id-1 div.sk-toggleable__content pre {margin: 0.2em;color: black;border-radius: 0.25em;background-color: #f0f8ff;}#sk-container-id-1 input.sk-toggleable__control:checked~div.sk-toggleable__content {max-height: 200px;max-width: 100%;overflow: auto;}#sk-container-id-1 input.sk-toggleable__control:checked~label.sk-toggleable__label-arrow:before {content: \"▾\";}#sk-container-id-1 div.sk-estimator input.sk-toggleable__control:checked~label.sk-toggleable__label {background-color: #d4ebff;}#sk-container-id-1 div.sk-label input.sk-toggleable__control:checked~label.sk-toggleable__label {background-color: #d4ebff;}#sk-container-id-1 input.sk-hidden--visually {border: 0;clip: rect(1px 1px 1px 1px);clip: rect(1px, 1px, 1px, 1px);height: 1px;margin: -1px;overflow: hidden;padding: 0;position: absolute;width: 1px;}#sk-container-id-1 div.sk-estimator {font-family: monospace;background-color: #f0f8ff;border: 1px dotted black;border-radius: 0.25em;box-sizing: border-box;margin-bottom: 0.5em;}#sk-container-id-1 div.sk-estimator:hover {background-color: #d4ebff;}#sk-container-id-1 div.sk-parallel-item::after {content: \"\";width: 100%;border-bottom: 1px solid gray;flex-grow: 1;}#sk-container-id-1 div.sk-label:hover label.sk-toggleable__label {background-color: #d4ebff;}#sk-container-id-1 div.sk-serial::before {content: \"\";position: absolute;border-left: 1px solid gray;box-sizing: border-box;top: 0;bottom: 0;left: 50%;z-index: 0;}#sk-container-id-1 div.sk-serial {display: flex;flex-direction: column;align-items: center;background-color: white;padding-right: 0.2em;padding-left: 0.2em;position: relative;}#sk-container-id-1 div.sk-item {position: relative;z-index: 1;}#sk-container-id-1 div.sk-parallel {display: flex;align-items: stretch;justify-content: center;background-color: white;position: relative;}#sk-container-id-1 div.sk-item::before, #sk-container-id-1 div.sk-parallel-item::before {content: \"\";position: absolute;border-left: 1px solid gray;box-sizing: border-box;top: 0;bottom: 0;left: 50%;z-index: -1;}#sk-container-id-1 div.sk-parallel-item {display: flex;flex-direction: column;z-index: 1;position: relative;background-color: white;}#sk-container-id-1 div.sk-parallel-item:first-child::after {align-self: flex-end;width: 50%;}#sk-container-id-1 div.sk-parallel-item:last-child::after {align-self: flex-start;width: 50%;}#sk-container-id-1 div.sk-parallel-item:only-child::after {width: 0;}#sk-container-id-1 div.sk-dashed-wrapped {border: 1px dashed gray;margin: 0 0.4em 0.5em 0.4em;box-sizing: border-box;padding-bottom: 0.4em;background-color: white;}#sk-container-id-1 div.sk-label label {font-family: monospace;font-weight: bold;display: inline-block;line-height: 1.2em;}#sk-container-id-1 div.sk-label-container {text-align: center;}#sk-container-id-1 div.sk-container {/* jupyter's `normalize.less` sets `[hidden] { display: none; }` but bootstrap.min.css set `[hidden] { display: none !important; }` so we also need the `!important` here to be able to override the default hidden behavior on the sphinx rendered scikit-learn.org. See: https://github.com/scikit-learn/scikit-learn/issues/21755 */display: inline-block !important;position: relative;}#sk-container-id-1 div.sk-text-repr-fallback {display: none;}</style><div id=\"sk-container-id-1\" class=\"sk-top-container\"><div class=\"sk-text-repr-fallback\"><pre>StandardScaler()</pre><b>In a Jupyter environment, please rerun this cell to show the HTML representation or trust the notebook. <br />On GitHub, the HTML representation is unable to render, please try loading this page with nbviewer.org.</b></div><div class=\"sk-container\" hidden><div class=\"sk-item\"><div class=\"sk-estimator sk-toggleable\"><input class=\"sk-toggleable__control sk-hidden--visually\" id=\"sk-estimator-id-1\" type=\"checkbox\" checked><label for=\"sk-estimator-id-1\" class=\"sk-toggleable__label sk-toggleable__label-arrow\">StandardScaler</label><div class=\"sk-toggleable__content\"><pre>StandardScaler()</pre></div></div></div></div></div>"
      ],
      "text/plain": [
       "StandardScaler()"
      ]
     },
     "execution_count": 5,
     "metadata": {},
     "output_type": "execute_result"
    }
   ],
   "source": [
    "scaler = StandardScaler()\n",
    "scaler.fit(X_train_all)"
   ]
  },
  {
   "cell_type": "code",
   "execution_count": 6,
   "id": "0f7533e1-710c-4d9a-98fb-a61fe5a2ddd3",
   "metadata": {},
   "outputs": [],
   "source": [
    "X_train_all_scaled = scaler.transform(X_train_all)\n"
   ]
  },
  {
   "cell_type": "code",
   "execution_count": 14,
   "id": "992715f0-a22f-4397-b372-f09cff8b1d11",
   "metadata": {},
   "outputs": [],
   "source": [
    "y_train_all = np.ravel(y_train_all)"
   ]
  },
  {
   "cell_type": "markdown",
   "id": "425761b8-d2d0-48b7-9c90-31db95d01359",
   "metadata": {},
   "source": [
    "First we define the neural network architecture:"
   ]
  },
  {
   "cell_type": "code",
   "execution_count": 35,
   "id": "e8057ef7-bfc2-40d1-a990-abfbd554473b",
   "metadata": {},
   "outputs": [],
   "source": [
    "reg_nn = MLPRegressor(hidden_layer_sizes=(10, 8, 5, 4),\n",
    "                      activation='relu',\n",
    "                      solver='adam', \n",
    "                      batch_size=50, \n",
    "                      max_iter=700,\n",
    "                      learning_rate='adaptive', \n",
    "                      shuffle=True, \n",
    "                      validation_fraction=0.1)"
   ]
  },
  {
   "cell_type": "markdown",
   "id": "61240b2a-c821-4e9c-aa09-8f883e8158d0",
   "metadata": {},
   "source": [
    "And now we search for the best hyperparameters in cross-validation using 10 folds."
   ]
  },
  {
   "cell_type": "code",
   "execution_count": 46,
   "id": "3af7a7fe-2e16-454f-b193-309abbb6c6e5",
   "metadata": {},
   "outputs": [
    {
     "name": "stdout",
     "output_type": "stream",
     "text": [
      "Fitting 10 folds for each of 6 candidates, totalling 60 fits\n",
      "-0.09909672699939523\n",
      "{'batch_size': 150, 'hidden_layer_sizes': (10, 8, 5, 4)}\n",
      "CPU times: user 1.2 s, sys: 12.1 ms, total: 1.21 s\n",
      "Wall time: 56 s\n"
     ]
    }
   ],
   "source": [
    "%%time\n",
    "clf = GridSearchCV(reg_nn, {'hidden_layer_sizes': [(10,8,5,4),(50,30,20,10), (30,20,10,5)],\n",
    "                               'batch_size': [50, 150]}, \n",
    "                   cv=10,\n",
    "                   verbose=1,\n",
    "                   scoring=\"neg_mean_squared_error\",\n",
    "                   n_jobs=4)\n",
    "clf.fit(X_train_all_scaled, y_train_all)\n",
    "\n",
    "print(clf.best_score_)\n",
    "print(clf.best_params_)"
   ]
  },
  {
   "cell_type": "code",
   "execution_count": 47,
   "id": "5f8098ba-5203-40d5-b1f2-7542ec63682f",
   "metadata": {},
   "outputs": [
    {
     "data": {
      "text/plain": [
       "array([-0.10429718, -0.12806915, -0.11770636, -0.09909673, -0.12501412,\n",
       "       -0.10653878])"
      ]
     },
     "execution_count": 47,
     "metadata": {},
     "output_type": "execute_result"
    }
   ],
   "source": [
    "clf.cv_results_['mean_test_score']"
   ]
  },
  {
   "cell_type": "markdown",
   "id": "740e4147-7ffb-487e-b530-b441f02ef6fb",
   "metadata": {},
   "source": [
    "And now we want to assess the performance of each one of the folds:"
   ]
  },
  {
   "cell_type": "code",
   "execution_count": 45,
   "id": "8992e303-39fd-4962-974d-2600776f2550",
   "metadata": {},
   "outputs": [],
   "source": [
    "scores = cross_val_score(reg_nn, X_train_all_scaled, y_train_all, cv=10, scoring=\"neg_mean_squared_error\")"
   ]
  },
  {
   "cell_type": "code",
   "execution_count": 41,
   "id": "e30dc97a-22f1-4553-a6c8-6dc0abafaa2f",
   "metadata": {},
   "outputs": [
    {
     "data": {
      "text/plain": [
       "array([0.13531495, 0.11917822, 0.12479862, 0.08672007, 0.11514285,\n",
       "       0.08674603, 0.09609675, 0.11502949, 0.10428792, 0.08864449])"
      ]
     },
     "execution_count": 41,
     "metadata": {},
     "output_type": "execute_result"
    }
   ],
   "source": [
    "-scores"
   ]
  },
  {
   "cell_type": "code",
   "execution_count": 48,
   "id": "2b7573dd-7f8a-43c9-a9a7-1a8574b9ae87",
   "metadata": {},
   "outputs": [
    {
     "data": {
      "text/html": [
       "<style>#sk-container-id-2 {color: black;background-color: white;}#sk-container-id-2 pre{padding: 0;}#sk-container-id-2 div.sk-toggleable {background-color: white;}#sk-container-id-2 label.sk-toggleable__label {cursor: pointer;display: block;width: 100%;margin-bottom: 0;padding: 0.3em;box-sizing: border-box;text-align: center;}#sk-container-id-2 label.sk-toggleable__label-arrow:before {content: \"▸\";float: left;margin-right: 0.25em;color: #696969;}#sk-container-id-2 label.sk-toggleable__label-arrow:hover:before {color: black;}#sk-container-id-2 div.sk-estimator:hover label.sk-toggleable__label-arrow:before {color: black;}#sk-container-id-2 div.sk-toggleable__content {max-height: 0;max-width: 0;overflow: hidden;text-align: left;background-color: #f0f8ff;}#sk-container-id-2 div.sk-toggleable__content pre {margin: 0.2em;color: black;border-radius: 0.25em;background-color: #f0f8ff;}#sk-container-id-2 input.sk-toggleable__control:checked~div.sk-toggleable__content {max-height: 200px;max-width: 100%;overflow: auto;}#sk-container-id-2 input.sk-toggleable__control:checked~label.sk-toggleable__label-arrow:before {content: \"▾\";}#sk-container-id-2 div.sk-estimator input.sk-toggleable__control:checked~label.sk-toggleable__label {background-color: #d4ebff;}#sk-container-id-2 div.sk-label input.sk-toggleable__control:checked~label.sk-toggleable__label {background-color: #d4ebff;}#sk-container-id-2 input.sk-hidden--visually {border: 0;clip: rect(1px 1px 1px 1px);clip: rect(1px, 1px, 1px, 1px);height: 1px;margin: -1px;overflow: hidden;padding: 0;position: absolute;width: 1px;}#sk-container-id-2 div.sk-estimator {font-family: monospace;background-color: #f0f8ff;border: 1px dotted black;border-radius: 0.25em;box-sizing: border-box;margin-bottom: 0.5em;}#sk-container-id-2 div.sk-estimator:hover {background-color: #d4ebff;}#sk-container-id-2 div.sk-parallel-item::after {content: \"\";width: 100%;border-bottom: 1px solid gray;flex-grow: 1;}#sk-container-id-2 div.sk-label:hover label.sk-toggleable__label {background-color: #d4ebff;}#sk-container-id-2 div.sk-serial::before {content: \"\";position: absolute;border-left: 1px solid gray;box-sizing: border-box;top: 0;bottom: 0;left: 50%;z-index: 0;}#sk-container-id-2 div.sk-serial {display: flex;flex-direction: column;align-items: center;background-color: white;padding-right: 0.2em;padding-left: 0.2em;position: relative;}#sk-container-id-2 div.sk-item {position: relative;z-index: 1;}#sk-container-id-2 div.sk-parallel {display: flex;align-items: stretch;justify-content: center;background-color: white;position: relative;}#sk-container-id-2 div.sk-item::before, #sk-container-id-2 div.sk-parallel-item::before {content: \"\";position: absolute;border-left: 1px solid gray;box-sizing: border-box;top: 0;bottom: 0;left: 50%;z-index: -1;}#sk-container-id-2 div.sk-parallel-item {display: flex;flex-direction: column;z-index: 1;position: relative;background-color: white;}#sk-container-id-2 div.sk-parallel-item:first-child::after {align-self: flex-end;width: 50%;}#sk-container-id-2 div.sk-parallel-item:last-child::after {align-self: flex-start;width: 50%;}#sk-container-id-2 div.sk-parallel-item:only-child::after {width: 0;}#sk-container-id-2 div.sk-dashed-wrapped {border: 1px dashed gray;margin: 0 0.4em 0.5em 0.4em;box-sizing: border-box;padding-bottom: 0.4em;background-color: white;}#sk-container-id-2 div.sk-label label {font-family: monospace;font-weight: bold;display: inline-block;line-height: 1.2em;}#sk-container-id-2 div.sk-label-container {text-align: center;}#sk-container-id-2 div.sk-container {/* jupyter's `normalize.less` sets `[hidden] { display: none; }` but bootstrap.min.css set `[hidden] { display: none !important; }` so we also need the `!important` here to be able to override the default hidden behavior on the sphinx rendered scikit-learn.org. See: https://github.com/scikit-learn/scikit-learn/issues/21755 */display: inline-block !important;position: relative;}#sk-container-id-2 div.sk-text-repr-fallback {display: none;}</style><div id=\"sk-container-id-2\" class=\"sk-top-container\"><div class=\"sk-text-repr-fallback\"><pre>MLPRegressor(batch_size=50, hidden_layer_sizes=(10, 8, 5, 4),\n",
       "             learning_rate=&#x27;adaptive&#x27;, max_iter=700)</pre><b>In a Jupyter environment, please rerun this cell to show the HTML representation or trust the notebook. <br />On GitHub, the HTML representation is unable to render, please try loading this page with nbviewer.org.</b></div><div class=\"sk-container\" hidden><div class=\"sk-item\"><div class=\"sk-estimator sk-toggleable\"><input class=\"sk-toggleable__control sk-hidden--visually\" id=\"sk-estimator-id-2\" type=\"checkbox\" checked><label for=\"sk-estimator-id-2\" class=\"sk-toggleable__label sk-toggleable__label-arrow\">MLPRegressor</label><div class=\"sk-toggleable__content\"><pre>MLPRegressor(batch_size=50, hidden_layer_sizes=(10, 8, 5, 4),\n",
       "             learning_rate=&#x27;adaptive&#x27;, max_iter=700)</pre></div></div></div></div></div>"
      ],
      "text/plain": [
       "MLPRegressor(batch_size=50, hidden_layer_sizes=(10, 8, 5, 4),\n",
       "             learning_rate='adaptive', max_iter=700)"
      ]
     },
     "execution_count": 48,
     "metadata": {},
     "output_type": "execute_result"
    }
   ],
   "source": [
    "reg_nn.fit(X_train_all_scaled, y_train_all)"
   ]
  },
  {
   "cell_type": "code",
   "execution_count": 49,
   "id": "2076b08f-bfeb-4c46-b5de-237bb9f409fd",
   "metadata": {},
   "outputs": [],
   "source": [
    "df_test = pd.read_csv('Data/df_test.csv', index_col=['rgi_id', 'period'])"
   ]
  },
  {
   "cell_type": "code",
   "execution_count": 50,
   "id": "63cf603d-ed07-4f96-8e72-24d0cbc5b738",
   "metadata": {},
   "outputs": [],
   "source": [
    "features_to_drop = ['dmdtda', 'err_dmdtda', 'target_id']\n",
    "\n",
    "df_test_X = df_test.drop(features_to_drop, axis=1)\n",
    "df_test_y = df_test[['dmdtda']]\n",
    "\n",
    "X_test, y_test = df_test_X.values, df_test_y.values"
   ]
  },
  {
   "cell_type": "code",
   "execution_count": 54,
   "id": "817e4e74-5de8-4756-bf68-159b4c9584f4",
   "metadata": {},
   "outputs": [],
   "source": [
    "X_test_scaled = scaler.transform(X_test)"
   ]
  },
  {
   "cell_type": "code",
   "execution_count": 56,
   "id": "16d086bc-065e-450d-baa5-99f80150ad87",
   "metadata": {},
   "outputs": [
    {
     "data": {
      "text/plain": [
       "0.24385970172963367"
      ]
     },
     "execution_count": 56,
     "metadata": {},
     "output_type": "execute_result"
    }
   ],
   "source": [
    "reg_nn.score(X_test_scaled, y_test)"
   ]
  },
  {
   "cell_type": "code",
   "execution_count": 58,
   "id": "88133e46-96b6-49fd-bb50-790593657fbd",
   "metadata": {},
   "outputs": [],
   "source": [
    "def plot_prediction(y1, y2, n_toplot=10**10):\n",
    "    \n",
    "    from scipy.stats import gaussian_kde\n",
    "    from sklearn.metrics import r2_score, mean_squared_error\n",
    "    \n",
    "    idxs = np.arange(len(y1))\n",
    "    np.random.shuffle(idxs)\n",
    "    \n",
    "    y_expected = y1.reshape(-1)[idxs[:n_toplot]]\n",
    "    y_predicted = y2.reshape(-1)[idxs[:n_toplot]]\n",
    "\n",
    "    xy = np.vstack([y_expected, y_predicted])\n",
    "    z = gaussian_kde(xy)(xy)\n",
    "    # Sort the points by density, so that the densest points are plotted last\n",
    "    idx = z.argsort()\n",
    "    y_plt, ann_plt, z = y_expected[idx], y_predicted[idx], z[idx]\n",
    "    \n",
    "    plt.figure(figsize=(8,8))\n",
    "    plt.title(\"Model Evaluation\", fontsize=17)\n",
    "    plt.ylabel('Modeled SMB (m.w.e)', fontsize=16)\n",
    "    plt.xlabel('Reference SMB (m.w.e)', fontsize=16)\n",
    "    sc = plt.scatter(y_plt, ann_plt, c=z, s=20)\n",
    "    plt.clim(0,0.4)\n",
    "    plt.tick_params(labelsize=14)\n",
    "    plt.colorbar(sc) \n",
    "    lineStart = -2.5\n",
    "    lineEnd = 1.5\n",
    "    plt.plot([lineStart, lineEnd], [lineStart, lineEnd], 'k-')\n",
    "    plt.axvline(0.0, ls='-.', c='k')\n",
    "    plt.axhline(0.0, ls='-.', c='k')\n",
    "    plt.xlim(lineStart, lineEnd)\n",
    "    plt.ylim(lineStart, lineEnd)\n",
    "    plt.gca().set_box_aspect(1)\n",
    "    \n",
    "    textstr = '\\n'.join((\n",
    "    r'$RMSE=%.2f$' % (mean_squared_error(y_expected, y_predicted), ),\n",
    "    r'$R^2=%.2f$' % (r2_score(y_expected, y_predicted), )))\n",
    "    props = dict(boxstyle='round', facecolor='wheat', alpha=0.5)\n",
    "    # place a text box in upper left in axes coords\n",
    "    plt.text(0.05, 0.95, textstr, transform=plt.gca().transAxes, fontsize=14,\n",
    "            verticalalignment='top', bbox=props)\n",
    "    \n",
    "    plt.show()"
   ]
  },
  {
   "cell_type": "code",
   "execution_count": 59,
   "id": "5c191732-240c-43a5-b12b-568f08468a84",
   "metadata": {},
   "outputs": [
    {
     "data": {
      "image/png": "[encoded data removed]",
      "text/plain": [
       "<Figure size 576x576 with 2 Axes>"
      ]
     },
     "metadata": {
      "needs_background": "light"
     },
     "output_type": "display_data"
    }
   ],
   "source": [
    "plot_prediction(y_test, reg_nn.predict(X_test_scaled), n_toplot=5000)"
   ]
  },
  {
   "cell_type": "code",
   "execution_count": 60,
   "id": "2f688b47-e23e-4336-b993-9700a1520d88",
   "metadata": {},
   "outputs": [
    {
     "data": {
      "image/png": "[encoded data removed]",
      "text/plain": [
       "<Figure size 576x576 with 2 Axes>"
      ]
     },
     "metadata": {
      "needs_background": "light"
     },
     "output_type": "display_data"
    }
   ],
   "source": [
    "plot_prediction(y_train_all, reg_nn.predict(X_train_all_scaled), n_toplot=5000)"
   ]
  },
  {
   "cell_type": "code",
   "execution_count": 61,
   "id": "829d29ca-c042-4abb-b67b-0b590e07481f",
   "metadata": {},
   "outputs": [
    {
     "data": {
      "text/plain": [
       "array([-0.8343, -0.3769, -0.7524, ..., -0.8434, -0.5828, -0.4431])"
      ]
     },
     "execution_count": 61,
     "metadata": {},
     "output_type": "execute_result"
    }
   ],
   "source": [
    "y_train_all\n"
   ]
  },
  {
   "cell_type": "code",
   "execution_count": 62,
   "id": "d42a134f-4ea2-44f9-ba38-2d57e5a6b1d8",
   "metadata": {},
   "outputs": [
    {
     "data": {
      "text/plain": [
       "(1802,)"
      ]
     },
     "execution_count": 62,
     "metadata": {},
     "output_type": "execute_result"
    }
   ],
   "source": [
    "y_train_all.shape\n"
   ]
  },
  {
   "cell_type": "code",
   "execution_count": 63,
   "id": "616f100d-926b-424d-9436-805d291606a2",
   "metadata": {},
   "outputs": [
    {
     "data": {
      "text/plain": [
       "(4114, 1)"
      ]
     },
     "execution_count": 63,
     "metadata": {},
     "output_type": "execute_result"
    }
   ],
   "source": [
    "y_test.shape\n"
   ]
  },
  {
   "cell_type": "code",
   "execution_count": 64,
   "id": "e13c03c0-7e8b-4cd4-a237-8edf449c2729",
   "metadata": {},
   "outputs": [
    {
     "data": {
      "text/plain": [
       "array([[-0.506 ],\n",
       "       [-0.0714],\n",
       "       [-0.7451],\n",
       "       ...,\n",
       "       [-0.3939],\n",
       "       [-0.3783],\n",
       "       [ 0.0246]])"
      ]
     },
     "execution_count": 64,
     "metadata": {},
     "output_type": "execute_result"
    }
   ],
   "source": [
    "y_test"
   ]
  },
  {
   "cell_type": "code",
   "execution_count": null,
   "id": "f1d01f0f-ee60-42d0-8d62-b95cd9fb5b9e",
   "metadata": {},
   "outputs": [],
   "source": []
  }
 ],
 "metadata": {
  "kernelspec": {
   "display_name": "Python [conda env:shared-public-Finse_MassBalance]",
   "language": "python",
   "name": "conda-env-shared-public-Finse_MassBalance-py"
  },
  "language_info": {
   "codemirror_mode": {
    "name": "ipython",
    "version": 3
   },
   "file_extension": ".py",
   "mimetype": "text/x-python",
   "name": "python",
   "nbconvert_exporter": "python",
   "pygments_lexer": "ipython3",
   "version": "3.10.6"
  }
 },
 "nbformat": 4,
 "nbformat_minor": 5
}
